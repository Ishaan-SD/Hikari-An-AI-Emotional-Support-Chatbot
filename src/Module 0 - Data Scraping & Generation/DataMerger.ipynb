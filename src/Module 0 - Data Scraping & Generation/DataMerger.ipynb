{
 "cells": [
  {
   "cell_type": "markdown",
   "id": "a624b0c9",
   "metadata": {},
   "source": [
    "# Merging the scraped and synthetic data"
   ]
  },
  {
   "cell_type": "code",
   "execution_count": 1,
   "id": "5d002c1f",
   "metadata": {},
   "outputs": [],
   "source": [
    "import pandas as pd"
   ]
  },
  {
   "cell_type": "code",
   "execution_count": null,
   "id": "57f419b1",
   "metadata": {},
   "outputs": [],
   "source": [
    "df = pd.read_csv(r'data\\cleaned_dataset.csv')"
   ]
  },
  {
   "cell_type": "code",
   "execution_count": 3,
   "id": "6014ad40",
   "metadata": {},
   "outputs": [
    {
     "data": {
      "text/plain": [
       "emotion\n",
       "fearful      4019\n",
       "depressed    3990\n",
       "happy        3834\n",
       "regret       3559\n",
       "angry        3507\n",
       "sad          3441\n",
       "surprised    2605\n",
       "neutral      2261\n",
       "disgusted    2203\n",
       "Name: count, dtype: int64"
      ]
     },
     "execution_count": 3,
     "metadata": {},
     "output_type": "execute_result"
    }
   ],
   "source": [
    "df['emotion'].value_counts()"
   ]
  },
  {
   "cell_type": "code",
   "execution_count": 4,
   "id": "7aa9b749",
   "metadata": {},
   "outputs": [
    {
     "data": {
      "text/html": [
       "<div>\n",
       "<style scoped>\n",
       "    .dataframe tbody tr th:only-of-type {\n",
       "        vertical-align: middle;\n",
       "    }\n",
       "\n",
       "    .dataframe tbody tr th {\n",
       "        vertical-align: top;\n",
       "    }\n",
       "\n",
       "    .dataframe thead th {\n",
       "        text-align: right;\n",
       "    }\n",
       "</style>\n",
       "<table border=\"1\" class=\"dataframe\">\n",
       "  <thead>\n",
       "    <tr style=\"text-align: right;\">\n",
       "      <th></th>\n",
       "      <th>Post_id</th>\n",
       "      <th>Title</th>\n",
       "      <th>Text</th>\n",
       "      <th>emotion</th>\n",
       "      <th>subreddit</th>\n",
       "      <th>Cleaned_Text</th>\n",
       "    </tr>\n",
       "  </thead>\n",
       "  <tbody>\n",
       "    <tr>\n",
       "      <th>0</th>\n",
       "      <td>jhc5fc</td>\n",
       "      <td>I’ve wasted so much time being depressed, that...</td>\n",
       "      <td>I can’t imagine how many days I have wasted to...</td>\n",
       "      <td>depressed</td>\n",
       "      <td>depression</td>\n",
       "      <td>cant imagine many day wasted sad cry able acco...</td>\n",
       "    </tr>\n",
       "    <tr>\n",
       "      <th>1</th>\n",
       "      <td>k47q9a</td>\n",
       "      <td>Anhedonia is the worst part of depression</td>\n",
       "      <td>You're alive, but you aren't living. You feel ...</td>\n",
       "      <td>depressed</td>\n",
       "      <td>depression</td>\n",
       "      <td>youre alive arent living feel like something a...</td>\n",
       "    </tr>\n",
       "    <tr>\n",
       "      <th>2</th>\n",
       "      <td>i2h6dv</td>\n",
       "      <td>Life doesn't \"get better\" unless you take acti...</td>\n",
       "      <td>Exercise/physical activity, eating healthy, sp...</td>\n",
       "      <td>depressed</td>\n",
       "      <td>depression</td>\n",
       "      <td>exercisephysical activity eating healthy spend...</td>\n",
       "    </tr>\n",
       "    <tr>\n",
       "      <th>3</th>\n",
       "      <td>g6jgq0</td>\n",
       "      <td>High functioning depression is so easily over ...</td>\n",
       "      <td>I try and do anything and everything all day. ...</td>\n",
       "      <td>depressed</td>\n",
       "      <td>depression</td>\n",
       "      <td>try anything everything day cant alone thought...</td>\n",
       "    </tr>\n",
       "    <tr>\n",
       "      <th>4</th>\n",
       "      <td>kgmy1e</td>\n",
       "      <td>I secretly hope that I will be diagnosed with ...</td>\n",
       "      <td>Hey Reddit. Drunk me here, mainly looking to v...</td>\n",
       "      <td>depressed</td>\n",
       "      <td>depression</td>\n",
       "      <td>hey reddit drunk mainly looking vent noone els...</td>\n",
       "    </tr>\n",
       "  </tbody>\n",
       "</table>\n",
       "</div>"
      ],
      "text/plain": [
       "  Post_id                                              Title  \\\n",
       "0  jhc5fc  I’ve wasted so much time being depressed, that...   \n",
       "1  k47q9a          Anhedonia is the worst part of depression   \n",
       "2  i2h6dv  Life doesn't \"get better\" unless you take acti...   \n",
       "3  g6jgq0  High functioning depression is so easily over ...   \n",
       "4  kgmy1e  I secretly hope that I will be diagnosed with ...   \n",
       "\n",
       "                                                Text    emotion   subreddit  \\\n",
       "0  I can’t imagine how many days I have wasted to...  depressed  depression   \n",
       "1  You're alive, but you aren't living. You feel ...  depressed  depression   \n",
       "2  Exercise/physical activity, eating healthy, sp...  depressed  depression   \n",
       "3  I try and do anything and everything all day. ...  depressed  depression   \n",
       "4  Hey Reddit. Drunk me here, mainly looking to v...  depressed  depression   \n",
       "\n",
       "                                        Cleaned_Text  \n",
       "0  cant imagine many day wasted sad cry able acco...  \n",
       "1  youre alive arent living feel like something a...  \n",
       "2  exercisephysical activity eating healthy spend...  \n",
       "3  try anything everything day cant alone thought...  \n",
       "4  hey reddit drunk mainly looking vent noone els...  "
      ]
     },
     "execution_count": 4,
     "metadata": {},
     "output_type": "execute_result"
    }
   ],
   "source": [
    "df.head()"
   ]
  },
  {
   "cell_type": "code",
   "execution_count": null,
   "id": "1457b336",
   "metadata": {},
   "outputs": [],
   "source": [
    "df_synth = pd.read_csv(r'data\\synthetic_balanced_emotion_dataset.csv')"
   ]
  },
  {
   "cell_type": "code",
   "execution_count": 6,
   "id": "a28658ed",
   "metadata": {},
   "outputs": [
    {
     "data": {
      "text/html": [
       "<div>\n",
       "<style scoped>\n",
       "    .dataframe tbody tr th:only-of-type {\n",
       "        vertical-align: middle;\n",
       "    }\n",
       "\n",
       "    .dataframe tbody tr th {\n",
       "        vertical-align: top;\n",
       "    }\n",
       "\n",
       "    .dataframe thead th {\n",
       "        text-align: right;\n",
       "    }\n",
       "</style>\n",
       "<table border=\"1\" class=\"dataframe\">\n",
       "  <thead>\n",
       "    <tr style=\"text-align: right;\">\n",
       "      <th></th>\n",
       "      <th>Text</th>\n",
       "      <th>emotion</th>\n",
       "    </tr>\n",
       "  </thead>\n",
       "  <tbody>\n",
       "    <tr>\n",
       "      <th>0</th>\n",
       "      <td>i get the feeling you may think this is an att...</td>\n",
       "      <td>love</td>\n",
       "    </tr>\n",
       "    <tr>\n",
       "      <th>1</th>\n",
       "      <td>i started off the week feeling groggy and unwe...</td>\n",
       "      <td>sadness</td>\n",
       "    </tr>\n",
       "    <tr>\n",
       "      <th>2</th>\n",
       "      <td>i feel we need a little romantic boost in the ...</td>\n",
       "      <td>love</td>\n",
       "    </tr>\n",
       "    <tr>\n",
       "      <th>3</th>\n",
       "      <td>im sure it feels wonderful</td>\n",
       "      <td>joy</td>\n",
       "    </tr>\n",
       "    <tr>\n",
       "      <th>4</th>\n",
       "      <td>i want to do it when i feel so tragic</td>\n",
       "      <td>sadness</td>\n",
       "    </tr>\n",
       "  </tbody>\n",
       "</table>\n",
       "</div>"
      ],
      "text/plain": [
       "                                                Text  emotion\n",
       "0  i get the feeling you may think this is an att...     love\n",
       "1  i started off the week feeling groggy and unwe...  sadness\n",
       "2  i feel we need a little romantic boost in the ...     love\n",
       "3                         im sure it feels wonderful      joy\n",
       "4              i want to do it when i feel so tragic  sadness"
      ]
     },
     "execution_count": 6,
     "metadata": {},
     "output_type": "execute_result"
    }
   ],
   "source": [
    "df_synth.head()"
   ]
  },
  {
   "cell_type": "code",
   "execution_count": 7,
   "id": "a1b842f3",
   "metadata": {},
   "outputs": [
    {
     "data": {
      "text/plain": [
       "emotion\n",
       "sadness     4265\n",
       "joy         4151\n",
       "anger       3267\n",
       "fear        2587\n",
       "surprise    1894\n",
       "love        1532\n",
       "neutral     1411\n",
       "disgust      698\n",
       "Name: count, dtype: int64"
      ]
     },
     "execution_count": 7,
     "metadata": {},
     "output_type": "execute_result"
    }
   ],
   "source": [
    "df_synth['emotion'].value_counts()"
   ]
  },
  {
   "cell_type": "code",
   "execution_count": 8,
   "id": "8d8729bd",
   "metadata": {},
   "outputs": [
    {
     "data": {
      "text/plain": [
       "emotion\n",
       "fearful      4019\n",
       "depressed    3990\n",
       "happy        3834\n",
       "regret       3559\n",
       "angry        3507\n",
       "sad          3441\n",
       "surprised    2605\n",
       "neutral      2261\n",
       "disgusted    2203\n",
       "Name: count, dtype: int64"
      ]
     },
     "execution_count": 8,
     "metadata": {},
     "output_type": "execute_result"
    }
   ],
   "source": [
    "df['emotion'].value_counts()"
   ]
  },
  {
   "cell_type": "code",
   "execution_count": 9,
   "id": "5cb58f66",
   "metadata": {},
   "outputs": [],
   "source": [
    "def labelRename(emo):\n",
    "    if emo == 'sadness':\n",
    "        return 'sad'\n",
    "    if emo == 'joy':\n",
    "        return 'happy'\n",
    "    if emo == 'anger':\n",
    "        return 'angry'\n",
    "    if emo == 'fear':\n",
    "        return 'fearful'\n",
    "    if emo == 'surprise':\n",
    "        return 'surprised'\n",
    "    if emo == 'disgust':\n",
    "        return 'disgusted'\n",
    "    return emo"
   ]
  },
  {
   "cell_type": "code",
   "execution_count": 10,
   "id": "0f8f699a",
   "metadata": {},
   "outputs": [],
   "source": [
    "df_synth['emotion'] = df_synth['emotion'].apply(labelRename)"
   ]
  },
  {
   "cell_type": "code",
   "execution_count": 11,
   "id": "3d7e102e",
   "metadata": {},
   "outputs": [
    {
     "data": {
      "text/plain": [
       "emotion\n",
       "sad          4265\n",
       "happy        4151\n",
       "angry        3267\n",
       "fearful      2587\n",
       "surprised    1894\n",
       "love         1532\n",
       "neutral      1411\n",
       "disgusted     698\n",
       "Name: count, dtype: int64"
      ]
     },
     "execution_count": 11,
     "metadata": {},
     "output_type": "execute_result"
    }
   ],
   "source": [
    "df_synth['emotion'].value_counts()"
   ]
  },
  {
   "cell_type": "code",
   "execution_count": 12,
   "id": "1d97f74b",
   "metadata": {},
   "outputs": [
    {
     "data": {
      "text/plain": [
       "emotion\n",
       "fearful      4019\n",
       "depressed    3990\n",
       "happy        3834\n",
       "regret       3559\n",
       "angry        3507\n",
       "sad          3441\n",
       "surprised    2605\n",
       "neutral      2261\n",
       "disgusted    2203\n",
       "Name: count, dtype: int64"
      ]
     },
     "execution_count": 12,
     "metadata": {},
     "output_type": "execute_result"
    }
   ],
   "source": [
    "df['emotion'].value_counts()"
   ]
  },
  {
   "cell_type": "code",
   "execution_count": 13,
   "id": "7e509d7a",
   "metadata": {},
   "outputs": [
    {
     "data": {
      "text/plain": [
       "Index(['Post_id', 'Title', 'Text', 'emotion', 'subreddit', 'Cleaned_Text'], dtype='object')"
      ]
     },
     "execution_count": 13,
     "metadata": {},
     "output_type": "execute_result"
    }
   ],
   "source": [
    "df.columns"
   ]
  },
  {
   "cell_type": "code",
   "execution_count": 14,
   "id": "0f701719",
   "metadata": {},
   "outputs": [
    {
     "data": {
      "text/plain": [
       "Index(['Text', 'emotion'], dtype='object')"
      ]
     },
     "execution_count": 14,
     "metadata": {},
     "output_type": "execute_result"
    }
   ],
   "source": [
    "df_synth.columns"
   ]
  },
  {
   "cell_type": "code",
   "execution_count": 15,
   "id": "c88ff0ca",
   "metadata": {},
   "outputs": [],
   "source": [
    "df = df[['Text','emotion']]"
   ]
  },
  {
   "cell_type": "code",
   "execution_count": 16,
   "id": "d5b7f051",
   "metadata": {},
   "outputs": [
    {
     "data": {
      "text/plain": [
       "Index(['Text', 'emotion'], dtype='object')"
      ]
     },
     "execution_count": 16,
     "metadata": {},
     "output_type": "execute_result"
    }
   ],
   "source": [
    "df.columns"
   ]
  },
  {
   "cell_type": "code",
   "execution_count": 18,
   "id": "b9044738",
   "metadata": {},
   "outputs": [],
   "source": [
    "merged_df = pd.concat([df,df_synth])"
   ]
  },
  {
   "cell_type": "code",
   "execution_count": 22,
   "id": "30df2948",
   "metadata": {},
   "outputs": [
    {
     "data": {
      "text/plain": [
       "emotion\n",
       "happy        7985\n",
       "sad          7706\n",
       "angry        6774\n",
       "fearful      6606\n",
       "surprised    4499\n",
       "depressed    3990\n",
       "neutral      3672\n",
       "regret       3559\n",
       "disgusted    2901\n",
       "love         1532\n",
       "Name: count, dtype: int64"
      ]
     },
     "execution_count": 22,
     "metadata": {},
     "output_type": "execute_result"
    }
   ],
   "source": [
    "merged_df['emotion'].value_counts()"
   ]
  },
  {
   "cell_type": "code",
   "execution_count": null,
   "id": "aafbe655",
   "metadata": {},
   "outputs": [],
   "source": [
    "merged_df.to_csv(r'data\\merged_data.csv')"
   ]
  }
 ],
 "metadata": {
  "kernelspec": {
   "display_name": "venv",
   "language": "python",
   "name": "python3"
  },
  "language_info": {
   "codemirror_mode": {
    "name": "ipython",
    "version": 3
   },
   "file_extension": ".py",
   "mimetype": "text/x-python",
   "name": "python",
   "nbconvert_exporter": "python",
   "pygments_lexer": "ipython3",
   "version": "3.10.11"
  }
 },
 "nbformat": 4,
 "nbformat_minor": 5
}
